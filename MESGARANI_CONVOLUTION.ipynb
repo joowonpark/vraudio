{
 "cells": [
  {
   "cell_type": "markdown",
   "metadata": {},
   "source": [
    "<table>\n",
    " <td>All code is written by Joo Won Park, Columbia University (jp3378@columbia.edu)</td>\n",
    "</table>"
   ]
  },
  {
   "cell_type": "code",
   "execution_count": 1,
   "metadata": {
    "collapsed": false
   },
   "outputs": [],
   "source": [
    "#Loading libraries\n",
    "import numpy as np\n",
    "import IPython\n",
    "from scipy.io.wavfile import read\n",
    "from scipy.io.wavfile import write\n",
    "from scipy import signal\n",
    "import scipy.io as sio"
   ]
  },
  {
   "cell_type": "markdown",
   "metadata": {},
   "source": [
    "* Load the desired audio file (mono) in place of 'drumloop.wav'. The file should be located in\n",
    "the same folder as this python notebook file is. \n",
    "\n",
    "* For this code, you need HRTF.mat file that is provided by professor Mesgarani.\n",
    "\n",
    "* Running this code will produce 24 audio files. Each file will be convolved so that that the whole set of file pans the horizontal plane by 15 degrees. The names of file will be 'drumHRIR_0', ...,'drumHRIR_23',\n"
   ]
  },
  {
   "cell_type": "code",
   "execution_count": 2,
   "metadata": {
    "collapsed": false
   },
   "outputs": [],
   "source": [
    "drumloop = read(\"drumloop.wav\")\n",
    "drum_data, drum_f = drumloop[1], drumloop[0]\n",
    "time = np.linspace(0, len(drum_data)/drum_f, num=len(drum_data))\n",
    "\n",
    "HRIR = sio.loadmat('HRTF.mat')\n",
    "evlist = HRIR['evlist']\n",
    "azlist = HRIR['azlist']\n",
    "\n",
    "rcontent = HRIR['rcontentm']\n",
    "lcontent = HRIR['lcontentm']\n",
    "\n"
   ]
  },
  {
   "cell_type": "code",
   "execution_count": 3,
   "metadata": {
    "collapsed": false
   },
   "outputs": [],
   "source": [
    "ev0 = np.where(evlist==0)[0] #index where 0 elevation \n",
    "\n",
    "azonly = azlist[ev0]\n",
    "ev0_l = lcontent[ev0,:]\n",
    "ev0_r = rcontent[ev0,:]\n",
    "\n",
    "# create dictionary of convolved data\n",
    "d={}\n",
    "\n",
    "for i in xrange(0,len(azonly)):\n",
    "        d[\"new_{0}\".format(i)]=np.vstack((signal.convolve(drum_data,lcontent[i],mode='same'),\n",
    "                                          signal.convolve(drum_data,rcontent[i],mode='same')))\n",
    "\n",
    "\n",
    "\n",
    "def scaleandwrite(outputfile, samplerate, drumdata):\n",
    "    scaled = np.int16((drumdata)/np.max(np.abs(drumdata)) * 32767)\n",
    "    write(outputfile,rate = samplerate, data = scaled.T)\n",
    "\n",
    "    \n",
    "for i in xrange(0,len(azonly)):\n",
    "    scaleandwrite('drumHRIR_{0}.wav'.format(i), drum_f, d['new_{0}'.format(i)])\n",
    "    "
   ]
  }
 ],
 "metadata": {
  "anaconda-cloud": {},
  "kernelspec": {
   "display_name": "Python [Root]",
   "language": "python",
   "name": "Python [Root]"
  },
  "language_info": {
   "codemirror_mode": {
    "name": "ipython",
    "version": 2
   },
   "file_extension": ".py",
   "mimetype": "text/x-python",
   "name": "python",
   "nbconvert_exporter": "python",
   "pygments_lexer": "ipython2",
   "version": "2.7.12"
  }
 },
 "nbformat": 4,
 "nbformat_minor": 0
}
